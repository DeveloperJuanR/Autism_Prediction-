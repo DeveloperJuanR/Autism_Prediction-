{
 "cells": [
  {
   "cell_type": "markdown",
   "metadata": {
    "id": "FlDq5lv9L83M"
   },
   "source": []
  },
  {
   "cell_type": "code",
   "metadata": {
    "colab": {
     "base_uri": "https://localhost:8080/",
     "height": 746
    },
    "id": "8QAwZgziJUVH",
    "outputId": "f2c7fc7e-4c89-43a4-e5f3-ec679ff2523d",
    "ExecuteTime": {
     "end_time": "2025-03-23T18:36:24.439968Z",
     "start_time": "2025-03-23T18:36:23.985549Z"
    }
   },
   "source": [
    "\n",
    "from Bio import Entrez, SeqIO\n",
    "\n",
    "Entrez.email = \"your_email@example.com\"  # Replace with your email\n",
    "\n",
    "# Fetch the mRNA sequence for CPEB4\n",
    "handle = Entrez.efetch(db=\"nucleotide\", rettype=\"gb\", retmode=\"text\", id=\"NM_030627.4\")\n",
    "recs = list(SeqIO.parse(handle, \"genbank\"))\n",
    "handle.close()\n",
    "\n",
    "# Check if any records were retrieved\n",
    "if recs:\n",
    "    autism_dna = recs[0].seq\n",
    "    print(f\"Our Sequence for autism is:\\n{autism_dna}\")\n",
    "else:\n",
    "    print(\"No records found. Check the accession number or database parameters.\")\n",
    "\n",
    "\n",
    "\n",
    "\n",
    "print(\"-------------------------------------------------------------------\")\n",
    "print(\"----------------- WELCOME TO AUTISM PROTEIN ANALYSIS---------------\")\n",
    "print(\"-------------------------------------------------------------------\")\n",
    "\n",
    "\n",
    "print(\"Here is the analysis of the Autism DNA Data:\")\n",
    "# Tells us the length of our DNA Sequence ------------------------------------\n",
    "print(f'- Total Nucleotides: {len(autism_dna)}')\n",
    "\n",
    "#Molecular weight ------------------------------------------------------\n",
    "from Bio.SeqUtils import molecular_weight\n",
    "print(f\"- Our Molecular Weight is:\", molecular_weight(autism_dna) )\n",
    "\n",
    "#GC content - higher GC content implies more stable molecule ---------------\n",
    "def gc_content (seq):\n",
    "    return round ((seq.count(\"G\") + seq.count(\"C\")) / len(seq) * 100, 6)\n",
    "print(f\"- GC Content:\", gc_content(autism_dna))\n",
    "percent_gc = ((gc_content(autism_dna) / len(autism_dna)) * 100)\n",
    "print(f\"- Percent GC: {round(percent_gc,2)} %\")\n",
    "if percent_gc > 0.60:\n",
    "  print(\"- Based on GC % this molecule is very stable\")\n",
    "elif percent_gc > 0.40:\n",
    "  print(\"- Based on GC % this molecule is moderate stable\")\n",
    "else:\n",
    "  print(\"- Based on GC % this molecule is not  stable\")\n",
    "\n",
    "# Transcription DNA -> RNA ----------------------------------\n",
    "def transcription(seq):\n",
    "  # Replaces Thymine with Uracil in DNA\n",
    "  return seq.replace(\"T\", \"U\")\n",
    "print(\"- DNA/RNA Transcription: \" + transcription(autism_dna)) # Turned DNA -> RNA\n",
    "\n",
    "\n",
    "# Makes a chart graphing all the Nucleotides in a table: ------------------------\n",
    "print(\"- Nucleotide Frequency Data Results:\")\n",
    "count_nucleotides = {\n",
    "    'A': autism_dna.count('A'),\n",
    "    'T': autism_dna.count('T'),\n",
    "    'C': autism_dna.count('C'),\n",
    "    'G': autism_dna.count('G')\n",
    "}\n",
    "import matplotlib.pyplot as plt\n",
    "width = 0.5\n",
    "plt.bar(count_nucleotides.keys(), count_nucleotides.values(), width, color=['b', 'r', 'm', 'c'])\n",
    "plt.xlabel('Nucleotide')\n",
    "plt.ylabel('Frequency')\n",
    "plt.title('Nucleotide Frequency')"
   ],
   "outputs": [
    {
     "ename": "ModuleNotFoundError",
     "evalue": "No module named 'Bio'",
     "output_type": "error",
     "traceback": [
      "\u001B[31m---------------------------------------------------------------------------\u001B[39m",
      "\u001B[31mModuleNotFoundError\u001B[39m                       Traceback (most recent call last)",
      "\u001B[36mCell\u001B[39m\u001B[36m \u001B[39m\u001B[32mIn[1]\u001B[39m\u001B[32m, line 1\u001B[39m\n\u001B[32m----> \u001B[39m\u001B[32m1\u001B[39m \u001B[38;5;28;01mfrom\u001B[39;00m\u001B[38;5;250m \u001B[39m\u001B[34;01mBio\u001B[39;00m\u001B[38;5;250m \u001B[39m\u001B[38;5;28;01mimport\u001B[39;00m Entrez, SeqIO\n\u001B[32m      3\u001B[39m Entrez.email = \u001B[33m\"\u001B[39m\u001B[33myour_email@example.com\u001B[39m\u001B[33m\"\u001B[39m  \u001B[38;5;66;03m# Replace with your email\u001B[39;00m\n\u001B[32m      5\u001B[39m \u001B[38;5;66;03m# Fetch the mRNA sequence for CPEB4\u001B[39;00m\n",
      "\u001B[31mModuleNotFoundError\u001B[39m: No module named 'Bio'"
     ]
    }
   ],
   "execution_count": 1
  },
  {
   "cell_type": "markdown",
   "metadata": {
    "id": "sBGjFne1kH_U"
   },
   "source": [
    "# Common Amino Acids found in Autism:"
   ]
  },
  {
   "cell_type": "code",
   "execution_count": null,
   "metadata": {
    "colab": {
     "base_uri": "https://localhost:8080/",
     "height": 583
    },
    "id": "0A-aEHl-iFGL",
    "outputId": "9c959ca3-e88d-4954-df24-03157229e2c8"
   },
   "outputs": [
    {
     "name": "stdout",
     "output_type": "stream",
     "text": [
      "- Autism's genome has 2953 possible amino acids based on 1st analysis\n",
      "- There are total of 187 actual amino acids in the Autism genome\n",
      "- We have 111 proteins with more than 20 amino acids in the covid-19 genome\n",
      "- Longest Protein: SMKMQVSFUREGSLLLRLIUVLCCFKISPIMSALALEAASLLRSGLSHSUUHIULISSIIUASISSKGGLLPVPIPHPSHIEMLLLUSCLIWRIILUNPPLRGAAURVRHQHPPLPGARAVVDMVAGEVPKAEIUAEG\n",
      "- The total length of longest protein is 138\n"
     ]
    },
    {
     "data": {
      "image/png": "[encoded data removed]",
      "text/plain": [
       "<Figure size 640x480 with 1 Axes>"
      ]
     },
     "metadata": {},
     "output_type": "display_data"
    }
   ],
   "source": [
    "\n",
    "\n",
    "#Most Common Amino Acids ----------------------------------------------------------\n",
    "\n",
    "\n",
    "RNA_Codons = {\n",
    "    # 'M' - START, '_' - STOP\n",
    "    \"GCU\": \"A\", \"GCC\": \"A\", \"GCA\": \"A\", \"GCG\": \"A\",\n",
    "    \"UGU\": \"C\", \"UGC\": \"C\",\n",
    "    \"GAU\": \"D\", \"GAC\": \"D\",\n",
    "    \"GAA\": \"E\", \"GAG\": \"E\",\n",
    "    \"UUU\": \"F\", \"UUC\": \"F\",\n",
    "    \"GGU\": \"G\", \"GGC\": \"G\", \"GGA\": \"G\", \"GGG\": \"G\",\n",
    "    \"CAU\": \"H\", \"CAC\": \"H\",\n",
    "    \"AUA\": \"I\", \"AUU\": \"I\", \"AUC\": \"I\",\n",
    "    \"AAA\": \"K\", \"AAG\": \"K\",\n",
    "    \"UUA\": \"L\", \"UUG\": \"L\", \"CUU\": \"L\", \"CUC\": \"L\", \"CUA\": \"L\", \"CUG\": \"L\",\n",
    "    \"AUG\": \"M\",\n",
    "    \"AAU\": \"N\", \"AAC\": \"N\",\n",
    "    \"CCU\": \"P\", \"CCC\": \"P\", \"CCA\": \"P\", \"CCG\": \"P\",\n",
    "    \"CAA\": \"Q\", \"CAG\": \"Q\",\n",
    "    \"CGU\": \"R\", \"CGC\": \"R\", \"CGA\": \"R\", \"CGG\": \"R\", \"AGA\": \"R\", \"AGG\": \"R\",\n",
    "    \"UCU\": \"S\", \"UCC\": \"S\", \"UCA\": \"S\", \"UCG\": \"S\", \"AGU\": \"S\", \"AGC\": \"S\",\n",
    "    \"ACU\": \"T\", \"ACC\": \"T\", \"ACA\": \"T\", \"ACG\": \"T\",\n",
    "    \"GUU\": \"V\", \"GUC\": \"V\", \"GUA\": \"V\", \"GUG\": \"V\",\n",
    "    \"UGG\": \"W\",\n",
    "    \"UAU\": \"Y\", \"UAC\": \"Y\",\n",
    "    \"UAA\": \"_\", \"UAG\": \"_\", \"UGA\": \"_\"\n",
    "}\n",
    "\n",
    "\n",
    "\n",
    "#Most Common Amino Acids ----------------------------------------------------------\n",
    "from collections import Counter\n",
    "common_amino = Counter(autism_dna)\n",
    "common_amino.most_common(10) #Gets the Top 10 most common amino acids\n",
    "del common_amino['*']\n",
    "width = 0.5\n",
    "plt.bar(common_amino.keys(), common_amino.values(), width, color=['b', 'r', 'm', 'c'])\n",
    "plt.xlabel('Amino Acid')\n",
    "plt.ylabel('Frequency')\n",
    "plt.title('Protein Sequence Frequency')\n",
    "print(f\"- Autism's genome has {sum(common_amino.values())} possible amino acids based on 1st analysis\")\n",
    "# According to our Analysis we got the highest amount amino acids in Leucine and Serine.\n",
    "\n",
    "# This code simplies our amino acids by splitting it at each stop codon making our count of amino acids more accurate:\n",
    "proteins = autism_dna.split('*')\n",
    "proteins[:5]\n",
    "print(f'- There are total of {len(proteins)} actual amino acids in the Autism genome')\n",
    "\n",
    "\n",
    "# We have converted DNA->RNA->Amino Acids, now we are converting it Proteins\n",
    "# We will check after our splits to see how many Proteins are there, since only +20 amino acids are actually proteins\n",
    "for protein in proteins:\n",
    "    if len(protein) < 20:\n",
    "        proteins.remove(protein)\n",
    "print(f'- We have {len(proteins)} proteins with more than 20 amino acids in the covid-19 genome')\n",
    "\n",
    "\n",
    "# This Code gets the Top 5 Proteins in our amino acids:\n",
    "top_5_proteins = sorted(proteins, key = len)\n",
    "top_5_proteins[-1] # This is the largest protein we have from all our DNA sample from NCBI Database based from the ID\n",
    "#Basically the longer the protein, the more effect it has person/dna_sequence\n",
    "print('- Longest Protein:',top_5_proteins[-1])\n",
    "print(\"- The total length of longest protein is\", len(top_5_proteins[-1]))\n",
    "\n",
    "\n",
    "# Saves our Longest Protein into a file to be observed later\n",
    "with open(\"protein_seq.fasta\", \"w\") as file:\n",
    "    file.write(f\">covid protein\\n{top_5_proteins[-1]}\")\n",
    "\n",
    "#Counting Kmer: PxxP, with every two amino acids = x, there is P=Per\n",
    "#Counting Kmer: PxxP, with every two amino acids = x, there is P=Per"
   ]
  }
 ],
 "metadata": {
  "colab": {
   "provenance": []
  },
  "kernelspec": {
   "display_name": "Python 3 (ipykernel)",
   "name": "python3",
   "language": "python"
  },
  "language_info": {
   "name": "python"
  }
 },
 "nbformat": 4,
 "nbformat_minor": 0
}
